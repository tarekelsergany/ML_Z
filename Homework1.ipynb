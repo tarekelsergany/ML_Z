{
 "cells": [
  {
   "cell_type": "code",
   "execution_count": 6,
   "id": "e92b7342-08e6-4285-9f6b-192fe38bad29",
   "metadata": {},
   "outputs": [
    {
     "data": {
      "text/plain": [
       "'2.2.2'"
      ]
     },
     "execution_count": 6,
     "metadata": {},
     "output_type": "execute_result"
    }
   ],
   "source": [
    "import pandas as pd\n",
    "pd.__version__"
   ]
  },
  {
   "cell_type": "code",
   "execution_count": 8,
   "id": "7fe1da32-4524-45b3-83a0-82fad778041b",
   "metadata": {},
   "outputs": [],
   "source": [
    "df = pd.read_csv('laptops.txt')"
   ]
  },
  {
   "cell_type": "code",
   "execution_count": 9,
   "id": "b44550e0-9f27-43aa-bc7e-f166dfc4743b",
   "metadata": {},
   "outputs": [
    {
     "data": {
      "text/plain": [
       "<bound method NDFrame.head of                                                  Laptop       Status   Brand  \\\n",
       "0     ASUS ExpertBook B1 B1502CBA-EJ0436X Intel Core...          New    Asus   \n",
       "1     Alurin Go Start Intel Celeron N4020/8GB/256GB ...          New  Alurin   \n",
       "2     ASUS ExpertBook B1 B1502CBA-EJ0424X Intel Core...          New    Asus   \n",
       "3     MSI Katana GF66 12UC-082XES Intel Core i7-1270...          New     MSI   \n",
       "4     HP 15S-FQ5085NS Intel Core i5-1235U/16GB/512GB...          New      HP   \n",
       "...                                                 ...          ...     ...   \n",
       "2155  Razer Blade 17 FHD 360Hz Intel Core i7-11800H/...  Refurbished   Razer   \n",
       "2156  Razer Blade 17 FHD 360Hz Intel Core i7-11800H/...  Refurbished   Razer   \n",
       "2157  Razer Blade 17 FHD 360Hz Intel Core i7-11800H/...  Refurbished   Razer   \n",
       "2158  Razer Book 13 Intel Evo Core i7-1165G7/16GB/1T...  Refurbished   Razer   \n",
       "2159  Razer Book FHD+ Intel Evo Core i7-1165G7/16GB/...  Refurbished   Razer   \n",
       "\n",
       "           Model                CPU  RAM  Storage Storage type       GPU  \\\n",
       "0     ExpertBook      Intel Core i5    8      512          SSD       NaN   \n",
       "1             Go      Intel Celeron    8      256          SSD       NaN   \n",
       "2     ExpertBook      Intel Core i3    8      256          SSD       NaN   \n",
       "3         Katana      Intel Core i7   16     1000          SSD  RTX 3050   \n",
       "4            15S      Intel Core i5   16      512          SSD       NaN   \n",
       "...          ...                ...  ...      ...          ...       ...   \n",
       "2155       Blade      Intel Core i7   16     1000          SSD  RTX 3060   \n",
       "2156       Blade      Intel Core i7   16     1000          SSD  RTX 3070   \n",
       "2157       Blade      Intel Core i7   32     1000          SSD  RTX 3080   \n",
       "2158        Book  Intel Evo Core i7   16     1000          SSD       NaN   \n",
       "2159        Book  Intel Evo Core i7   16      256          SSD       NaN   \n",
       "\n",
       "      Screen Touch  Final Price  \n",
       "0       15.6    No      1009.00  \n",
       "1       15.6    No       299.00  \n",
       "2       15.6    No       789.00  \n",
       "3       15.6    No      1199.00  \n",
       "4       15.6    No       669.01  \n",
       "...      ...   ...          ...  \n",
       "2155    17.3    No      2699.99  \n",
       "2156    17.3    No      2899.99  \n",
       "2157    17.3    No      3399.99  \n",
       "2158    13.4   Yes      1899.99  \n",
       "2159    13.4   Yes      1699.99  \n",
       "\n",
       "[2160 rows x 12 columns]>"
      ]
     },
     "execution_count": 9,
     "metadata": {},
     "output_type": "execute_result"
    }
   ],
   "source": [
    "df.head"
   ]
  },
  {
   "cell_type": "code",
   "execution_count": 13,
   "id": "5ff08f23-8d76-410a-86dc-cc5a398a538c",
   "metadata": {},
   "outputs": [
    {
     "name": "stdout",
     "output_type": "stream",
     "text": [
      "27\n"
     ]
    }
   ],
   "source": [
    "num_brands = df['Brand'].nunique()\n",
    "print (num_brands)"
   ]
  },
  {
   "cell_type": "code",
   "execution_count": 14,
   "id": "51a6efcf-6727-40f3-90e0-3a7fd3690962",
   "metadata": {},
   "outputs": [
    {
     "name": "stdout",
     "output_type": "stream",
     "text": [
      "Laptop             0\n",
      "Status             0\n",
      "Brand              0\n",
      "Model              0\n",
      "CPU                0\n",
      "RAM                0\n",
      "Storage            0\n",
      "Storage type      42\n",
      "GPU             1371\n",
      "Screen             4\n",
      "Touch              0\n",
      "Final Price        0\n",
      "dtype: int64\n"
     ]
    }
   ],
   "source": [
    "missing_values = df.isnull().sum()\n",
    "print (missing_values)"
   ]
  },
  {
   "cell_type": "code",
   "execution_count": 20,
   "id": "aab8157f-a498-4cc1-bbe2-558cde1d3b39",
   "metadata": {},
   "outputs": [
    {
     "name": "stdout",
     "output_type": "stream",
     "text": [
      "                                                 Laptop       Status Brand  \\\n",
      "161   Dell Vostro 3510 Intel Core i3-1115G4/8 GB/256...          New  Dell   \n",
      "271   Dell Vostro 3510 Intel Core i5-1135G7/8 GB/256...          New  Dell   \n",
      "281   Dell Vostro 3520 Intel Core i7-1255U/16GB/512G...          New  Dell   \n",
      "319   Dell Latitude 3520 Intel Core i5-1135G7/8GB/25...          New  Dell   \n",
      "328   Dell Vostro 3510 Intel Core i5-1135G7/16 GB/51...          New  Dell   \n",
      "...                                                 ...          ...   ...   \n",
      "1843  Dell Vostro 5301 Intel Core i5-1135G7/8GB/256G...  Refurbished  Dell   \n",
      "1844  Dell Vostro 5301 Intel Core i5-1135G7/8GB/512G...  Refurbished  Dell   \n",
      "1845  Dell Vostro 5502 Intel Core i5-1135G7/8GB/512G...  Refurbished  Dell   \n",
      "1846  Dell XPS 13 9300 Intel Core i5-1035G1/8GB/512G...  Refurbished  Dell   \n",
      "1847  Dell XPS 7390 Intel Core i7-10510U/16GB/512GB ...  Refurbished  Dell   \n",
      "\n",
      "         Model            CPU  RAM  Storage Storage type  GPU  Screen Touch  \\\n",
      "161     Vostro  Intel Core i3    8      256          SSD  NaN    15.6    No   \n",
      "271     Vostro  Intel Core i5    8      256          SSD  NaN    15.6    No   \n",
      "281     Vostro  Intel Core i7   16      512          SSD  NaN    15.6    No   \n",
      "319   Latitude  Intel Core i5    8      256          SSD  NaN    15.6    No   \n",
      "328     Vostro  Intel Core i5   16      512          SSD  NaN    15.6    No   \n",
      "...        ...            ...  ...      ...          ...  ...     ...   ...   \n",
      "1843    Vostro  Intel Core i5    8      256          SSD  NaN    13.3    No   \n",
      "1844    Vostro  Intel Core i5    8      512          SSD  NaN    13.3    No   \n",
      "1845    Vostro  Intel Core i5    8      512          SSD  NaN    15.6    No   \n",
      "1846       XPS  Intel Core i5    8      512          SSD  NaN    13.4    No   \n",
      "1847       XPS  Intel Core i7   16      512          SSD  NaN    13.3    No   \n",
      "\n",
      "      Final Price  \n",
      "161        599.00  \n",
      "271        690.15  \n",
      "281        889.00  \n",
      "319        789.00  \n",
      "328        869.00  \n",
      "...           ...  \n",
      "1843       420.74  \n",
      "1844       511.59  \n",
      "1845       549.93  \n",
      "1846       699.00  \n",
      "1847      1086.88  \n",
      "\n",
      "[84 rows x 12 columns]\n",
      "3936.0\n"
     ]
    }
   ],
   "source": [
    "dell_notebooks = df[df['Brand'] == 'Dell']\n",
    "print (dell_notebooks)\n",
    "\n",
    "max_price = dell_notebooks['Final Price'].max()\n",
    "print (max_price)\n"
   ]
  },
  {
   "cell_type": "code",
   "execution_count": 34,
   "id": "23bbe0b3-8080-47a5-b0b9-c10573a66712",
   "metadata": {},
   "outputs": [
    {
     "name": "stdout",
     "output_type": "stream",
     "text": [
      "15.6\n"
     ]
    }
   ],
   "source": [
    "median_screen = df['Screen'].median()\n",
    "print (median_screen)"
   ]
  },
  {
   "cell_type": "code",
   "execution_count": 35,
   "id": "f52d40d2-5238-45de-877f-3b4ddbfbac88",
   "metadata": {},
   "outputs": [],
   "source": [
    "mode_screen = df['Screen'].mode()[0]"
   ]
  },
  {
   "cell_type": "code",
   "execution_count": 36,
   "id": "1d9d04b9-cec7-4272-b956-55304fdb1294",
   "metadata": {},
   "outputs": [],
   "source": [
    "df['Screen'] = df['Screen'].fillna(mode_screen)"
   ]
  },
  {
   "cell_type": "code",
   "execution_count": 37,
   "id": "5dfdbc4d-6e8c-4b82-81e9-b725db4e26c1",
   "metadata": {},
   "outputs": [
    {
     "name": "stdout",
     "output_type": "stream",
     "text": [
      "15.6\n"
     ]
    }
   ],
   "source": [
    "median_screen = df['Screen'].median()\n",
    "print (median_screen)"
   ]
  },
  {
   "cell_type": "code",
   "execution_count": 39,
   "id": "0ea6fce0-f471-4673-8b34-dab646956e66",
   "metadata": {},
   "outputs": [
    {
     "name": "stdout",
     "output_type": "stream",
     "text": [
      "                                                 Laptop Status   Brand Model  \\\n",
      "1478  InnJoo Voom Excellence Intel Celeron N4020/8GB...    New  Innjoo  Voom   \n",
      "1479  InnJoo Voom Excellence Pro Intel Celeron N4020...    New  Innjoo  Voom   \n",
      "1480  Innjoo Voom Intel Celeron N3350/4GB/64GB eMMC/...    New  Innjoo  Voom   \n",
      "1481  Innjoo Voom Laptop Max Intel Celeron N3350/6GB...    New  Innjoo  Voom   \n",
      "1482  Innjoo Voom Laptop Pro Intel Celeron N3350/6GB...    New  Innjoo  Voom   \n",
      "1483  Innjoo Voom Pro Intel Celeron N3350/6GB/128GB ...    New  Innjoo  Voom   \n",
      "\n",
      "                CPU  RAM  Storage Storage type  GPU  Screen Touch  Final Price  \n",
      "1478  Intel Celeron    8      256          SSD  NaN    15.6    No       311.37  \n",
      "1479  Intel Celeron    8      512          SSD  NaN    15.6    No       392.55  \n",
      "1480  Intel Celeron    4       64         eMMC  NaN    14.1    No       251.40  \n",
      "1481  Intel Celeron    6       64         eMMC  NaN    14.1    No       383.61  \n",
      "1482  Intel Celeron    6      128          SSD  NaN    14.1    No       317.02  \n",
      "1483  Intel Celeron    6      128         eMMC  NaN    14.1    No       431.38  \n"
     ]
    }
   ],
   "source": [
    "innjoo_laptops = df[df['Brand'] == 'Innjoo']\n",
    "print(innjoo_laptops)"
   ]
  },
  {
   "cell_type": "code",
   "execution_count": 40,
   "id": "1922bf4c-60b7-4735-aa3d-3da09bd669ec",
   "metadata": {},
   "outputs": [
    {
     "name": "stdout",
     "output_type": "stream",
     "text": [
      "      RAM  Storage  Screen\n",
      "1478    8      256    15.6\n",
      "1479    8      512    15.6\n",
      "1480    4       64    14.1\n",
      "1481    6       64    14.1\n",
      "1482    6      128    14.1\n",
      "1483    6      128    14.1\n"
     ]
    }
   ],
   "source": [
    "innjoo_laptops_selected = innjoo_laptops[['RAM', 'Storage', 'Screen']]\n",
    "print(innjoo_laptops_selected)"
   ]
  },
  {
   "cell_type": "code",
   "execution_count": 41,
   "id": "5fdae8af-13cc-4c0c-a500-5785099d8f08",
   "metadata": {},
   "outputs": [
    {
     "name": "stdout",
     "output_type": "stream",
     "text": [
      "[[  8.  256.   15.6]\n",
      " [  8.  512.   15.6]\n",
      " [  4.   64.   14.1]\n",
      " [  6.   64.   14.1]\n",
      " [  6.  128.   14.1]\n",
      " [  6.  128.   14.1]]\n"
     ]
    }
   ],
   "source": [
    "X = innjoo_laptops_selected.to_numpy()\n",
    "print(X)"
   ]
  },
  {
   "cell_type": "code",
   "execution_count": 42,
   "id": "3bc8a6fe-541e-4d8d-9fa5-4c70a0229145",
   "metadata": {},
   "outputs": [
    {
     "name": "stdout",
     "output_type": "stream",
     "text": [
      "[[2.52000e+02 8.32000e+03 5.59800e+02]\n",
      " [8.32000e+03 3.68640e+05 1.73952e+04]\n",
      " [5.59800e+02 1.73952e+04 1.28196e+03]]\n"
     ]
    }
   ],
   "source": [
    "import numpy as np\n",
    "\n",
    "X_T = X.T\n",
    "\n",
    "XTX = X_T @ X\n",
    "\n",
    "print(XTX)"
   ]
  },
  {
   "cell_type": "code",
   "execution_count": 43,
   "id": "71d0df6e-0e64-4ba3-92ce-4225c4caacc9",
   "metadata": {},
   "outputs": [
    {
     "name": "stdout",
     "output_type": "stream",
     "text": [
      "[1100 1300  800  900 1000 1100]\n"
     ]
    }
   ],
   "source": [
    "y = np.array([1100, 1300, 800, 900, 1000, 1100])\n",
    "print(y)"
   ]
  },
  {
   "cell_type": "code",
   "execution_count": 45,
   "id": "47bbc316-752f-4f9c-8822-de06e74ac4da",
   "metadata": {},
   "outputs": [
    {
     "name": "stdout",
     "output_type": "stream",
     "text": [
      "[45.58076606  0.42783519 45.29127938]\n"
     ]
    }
   ],
   "source": [
    "XTX_inv = np.linalg.inv(XTX)\n",
    "\n",
    "result = XTX_inv @ X_T\n",
    "\n",
    "w = result @ y\n",
    "\n",
    "print(w)"
   ]
  },
  {
   "cell_type": "code",
   "execution_count": 46,
   "id": "01dd2fd6-ec3c-4a5c-84ba-4f617fe657e8",
   "metadata": {},
   "outputs": [
    {
     "name": "stdout",
     "output_type": "stream",
     "text": [
      "91.29988062995815\n"
     ]
    }
   ],
   "source": [
    "sum_w = np.sum(w)\n",
    "print(sum_w)"
   ]
  },
  {
   "cell_type": "code",
   "execution_count": null,
   "id": "49869d74-501b-48ed-b8bc-b045763d5855",
   "metadata": {},
   "outputs": [],
   "source": []
  }
 ],
 "metadata": {
  "kernelspec": {
   "display_name": "Python 3 (ipykernel)",
   "language": "python",
   "name": "python3"
  },
  "language_info": {
   "codemirror_mode": {
    "name": "ipython",
    "version": 3
   },
   "file_extension": ".py",
   "mimetype": "text/x-python",
   "name": "python",
   "nbconvert_exporter": "python",
   "pygments_lexer": "ipython3",
   "version": "3.11.9"
  }
 },
 "nbformat": 4,
 "nbformat_minor": 5
}
